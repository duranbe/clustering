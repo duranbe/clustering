{
 "cells": [
  {
   "cell_type": "code",
   "execution_count": 23,
   "metadata": {},
   "outputs": [],
   "source": [
    "import numpy as np\n",
    "import pandas as pd\n",
    "import nltk\n",
    "import seaborn as sns\n",
    "\n",
    "from sklearn.model_selection import train_test_split\n",
    "from sklearn.naive_bayes import GaussianNB,MultinomialNB"
   ]
  },
  {
   "cell_type": "code",
   "execution_count": 24,
   "metadata": {},
   "outputs": [],
   "source": [
    "import glob #list .txt file\n",
    "\n",
    "pos_list=glob.glob(\"./data/movie-reviews-en/train/pos/*.txt\")\n",
    "neg_list=glob.glob(\"./data/movie-reviews-en/train/neg/*.txt\")"
   ]
  },
  {
   "cell_type": "code",
   "execution_count": 25,
   "metadata": {},
   "outputs": [],
   "source": [
    "full_text = ''\n",
    "\n",
    "for file in pos_list:\n",
    "    f = open(file, \"r\")\n",
    "    full_text += f.read()\n",
    "\n",
    "for file in neg_list:\n",
    "    f = open(file, \"r\")\n",
    "    full_text += f.read()\n",
    "    "
   ]
  },
  {
   "cell_type": "code",
   "execution_count": 26,
   "metadata": {},
   "outputs": [],
   "source": [
    "import string\n",
    "#Delete punctuation\n",
    "full_text = full_text.translate(str.maketrans('','', string.punctuation)).replace('\\n','')"
   ]
  },
  {
   "cell_type": "code",
   "execution_count": 27,
   "metadata": {},
   "outputs": [],
   "source": [
    "from collections import Counter\n",
    "#Count each word\n",
    "count = Counter(full_text.split())"
   ]
  },
  {
   "cell_type": "code",
   "execution_count": 101,
   "metadata": {
    "scrolled": true
   },
   "outputs": [
    {
     "data": {
      "text/plain": [
       "45241"
      ]
     },
     "execution_count": 101,
     "metadata": {},
     "output_type": "execute_result"
    }
   ],
   "source": [
    "len(count) #Nb of words"
   ]
  },
  {
   "cell_type": "code",
   "execution_count": 29,
   "metadata": {},
   "outputs": [
    {
     "data": {
      "text/plain": [
       "[('the', 68395),\n",
       " ('a', 34165),\n",
       " ('and', 31648),\n",
       " ('of', 30420),\n",
       " ('to', 28507),\n",
       " ('is', 22511)]"
      ]
     },
     "execution_count": 29,
     "metadata": {},
     "output_type": "execute_result"
    }
   ],
   "source": [
    "n_word = 200\n",
    "most_common = count.most_common(n_word)\n",
    "most_common[0:6]"
   ]
  },
  {
   "cell_type": "code",
   "execution_count": 30,
   "metadata": {},
   "outputs": [],
   "source": [
    "reducing = lambda x: x[0]"
   ]
  },
  {
   "cell_type": "code",
   "execution_count": 31,
   "metadata": {},
   "outputs": [],
   "source": [
    "n = len(pos_list)\n",
    "data_pos = np.zeros((n,n_word))\n",
    "\n",
    "for file,i in zip(pos_list,range(n)):\n",
    "    f = open(file, \"r\")\n",
    "    text = f.read()\n",
    "    text=text.translate(str.maketrans('','', string.punctuation)).replace('\\n','')\n",
    "    \n",
    "    for j in range(0,n_word):\n",
    "        \n",
    "        if most_common[j][0] in text:\n",
    "           \n",
    "        \n",
    "    \n",
    "            data_pos[i][j]=text.split(' ').count(most_common[j][0])\n",
    "            \n",
    "        else:\n",
    "            data_pos[i][j]=0 "
   ]
  },
  {
   "cell_type": "code",
   "execution_count": 32,
   "metadata": {},
   "outputs": [
    {
     "data": {
      "text/plain": [
       "array([[46., 15., 20., ...,  0.,  0.,  0.],\n",
       "       [35., 22., 20., ...,  1.,  0.,  0.],\n",
       "       [33.,  9.,  9., ...,  0.,  0.,  0.],\n",
       "       ...,\n",
       "       [41., 17., 27., ...,  0.,  0.,  1.],\n",
       "       [35., 13., 18., ...,  0.,  0.,  0.],\n",
       "       [32., 15., 16., ...,  0.,  1.,  0.]])"
      ]
     },
     "execution_count": 32,
     "metadata": {},
     "output_type": "execute_result"
    }
   ],
   "source": [
    "data_pos"
   ]
  },
  {
   "cell_type": "code",
   "execution_count": 33,
   "metadata": {},
   "outputs": [],
   "source": [
    "n = len(neg_list)\n",
    "data_neg = np.zeros((n,n_word))\n",
    "\n",
    "for file,i in zip(neg_list,range(n)):\n",
    "    f = open(file, \"r\")\n",
    "    text = f.read()\n",
    "    text=text.translate(str.maketrans('','', string.punctuation)).replace('\\n','')\n",
    "    \n",
    "    for j in range(0,n_word):\n",
    "        \n",
    "        if most_common[j][0] in text:\n",
    "            \n",
    "            data_neg[i][j]=text.split(' ').count(most_common[j][0])\n",
    "        else:\n",
    "            data_neg[i][j] =0 "
   ]
  },
  {
   "cell_type": "code",
   "execution_count": 34,
   "metadata": {},
   "outputs": [
    {
     "data": {
      "text/plain": [
       "89960"
      ]
     },
     "execution_count": 34,
     "metadata": {},
     "output_type": "execute_result"
    }
   ],
   "source": [
    "np.sum(data_neg<=0)"
   ]
  },
  {
   "cell_type": "code",
   "execution_count": 35,
   "metadata": {},
   "outputs": [
    {
     "data": {
      "text/plain": [
       "89029"
      ]
     },
     "execution_count": 35,
     "metadata": {},
     "output_type": "execute_result"
    }
   ],
   "source": [
    "np.sum(data_pos<=0)"
   ]
  },
  {
   "cell_type": "code",
   "execution_count": 36,
   "metadata": {},
   "outputs": [],
   "source": [
    "df_pos = pd.DataFrame(data=data_pos, dtype=np.int16,columns=list(map(reducing,most_common)))\n",
    "df_neg = pd.DataFrame(data=data_neg, dtype=np.int16,columns=list(map(reducing,most_common)))\n",
    "df_pos['class']=1\n",
    "df_neg['class']=0\n",
    "df = pd.concat([df_pos,df_neg])"
   ]
  },
  {
   "cell_type": "code",
   "execution_count": 38,
   "metadata": {},
   "outputs": [
    {
     "data": {
      "text/plain": [
       "<matplotlib.axes._subplots.AxesSubplot at 0x17ad2a104c8>"
      ]
     },
     "execution_count": 38,
     "metadata": {},
     "output_type": "execute_result"
    },
    {
     "data": {
      "image/png": "[encoded data removed]",
      "text/plain": [
       "<Figure size 432x288 with 1 Axes>"
      ]
     },
     "metadata": {
      "needs_background": "light"
     },
     "output_type": "display_data"
    }
   ],
   "source": [
    "df['good'][df['class']==1].hist(alpha=0.7,color='#00e650') \n",
    "df['good'][df['class']==0].hist(alpha=0.7,color='#e60800')"
   ]
  },
  {
   "cell_type": "code",
   "execution_count": 55,
   "metadata": {},
   "outputs": [
    {
     "data": {
      "text/plain": [
       "<matplotlib.axes._subplots.AxesSubplot at 0x17ad2a8ae08>"
      ]
     },
     "execution_count": 55,
     "metadata": {},
     "output_type": "execute_result"
    },
    {
     "data": {
      "image/png": "[encoded data removed]",
      "text/plain": [
       "<Figure size 432x288 with 1 Axes>"
      ]
     },
     "metadata": {
      "needs_background": "light"
     },
     "output_type": "display_data"
    }
   ],
   "source": [
    "sns.distplot(df['good'][df['class']==0])"
   ]
  },
  {
   "cell_type": "code",
   "execution_count": 54,
   "metadata": {},
   "outputs": [
    {
     "data": {
      "text/plain": [
       "<matplotlib.axes._subplots.AxesSubplot at 0x17ad2a6aa08>"
      ]
     },
     "execution_count": 54,
     "metadata": {},
     "output_type": "execute_result"
    },
    {
     "data": {
      "image/png": "[encoded data removed]",
      "text/plain": [
       "<Figure size 432x288 with 1 Axes>"
      ]
     },
     "metadata": {
      "needs_background": "light"
     },
     "output_type": "display_data"
    }
   ],
   "source": [
    "sns.distplot(df['good'][df['class']==1]) "
   ]
  },
  {
   "cell_type": "code",
   "execution_count": 41,
   "metadata": {},
   "outputs": [
    {
     "data": {
      "text/html": [
       "<div>\n",
       "<style scoped>\n",
       "    .dataframe tbody tr th:only-of-type {\n",
       "        vertical-align: middle;\n",
       "    }\n",
       "\n",
       "    .dataframe tbody tr th {\n",
       "        vertical-align: top;\n",
       "    }\n",
       "\n",
       "    .dataframe thead th {\n",
       "        text-align: right;\n",
       "    }\n",
       "</style>\n",
       "<table border=\"1\" class=\"dataframe\">\n",
       "  <thead>\n",
       "    <tr style=\"text-align: right;\">\n",
       "      <th></th>\n",
       "      <th>the</th>\n",
       "      <th>a</th>\n",
       "      <th>and</th>\n",
       "      <th>of</th>\n",
       "      <th>to</th>\n",
       "      <th>is</th>\n",
       "      <th>in</th>\n",
       "      <th>that</th>\n",
       "      <th>it</th>\n",
       "      <th>as</th>\n",
       "      <th>...</th>\n",
       "      <th>plays</th>\n",
       "      <th>long</th>\n",
       "      <th>cast</th>\n",
       "      <th>john</th>\n",
       "      <th>old</th>\n",
       "      <th>ever</th>\n",
       "      <th>comes</th>\n",
       "      <th>young</th>\n",
       "      <th>without</th>\n",
       "      <th>class</th>\n",
       "    </tr>\n",
       "  </thead>\n",
       "  <tbody>\n",
       "    <tr>\n",
       "      <th>0</th>\n",
       "      <td>46</td>\n",
       "      <td>15</td>\n",
       "      <td>20</td>\n",
       "      <td>14</td>\n",
       "      <td>15</td>\n",
       "      <td>7</td>\n",
       "      <td>18</td>\n",
       "      <td>3</td>\n",
       "      <td>6</td>\n",
       "      <td>2</td>\n",
       "      <td>...</td>\n",
       "      <td>0</td>\n",
       "      <td>1</td>\n",
       "      <td>0</td>\n",
       "      <td>0</td>\n",
       "      <td>0</td>\n",
       "      <td>0</td>\n",
       "      <td>0</td>\n",
       "      <td>0</td>\n",
       "      <td>0</td>\n",
       "      <td>1</td>\n",
       "    </tr>\n",
       "    <tr>\n",
       "      <th>1</th>\n",
       "      <td>35</td>\n",
       "      <td>22</td>\n",
       "      <td>20</td>\n",
       "      <td>12</td>\n",
       "      <td>14</td>\n",
       "      <td>22</td>\n",
       "      <td>12</td>\n",
       "      <td>10</td>\n",
       "      <td>8</td>\n",
       "      <td>5</td>\n",
       "      <td>...</td>\n",
       "      <td>0</td>\n",
       "      <td>0</td>\n",
       "      <td>0</td>\n",
       "      <td>0</td>\n",
       "      <td>0</td>\n",
       "      <td>0</td>\n",
       "      <td>1</td>\n",
       "      <td>0</td>\n",
       "      <td>0</td>\n",
       "      <td>1</td>\n",
       "    </tr>\n",
       "    <tr>\n",
       "      <th>2</th>\n",
       "      <td>33</td>\n",
       "      <td>9</td>\n",
       "      <td>9</td>\n",
       "      <td>10</td>\n",
       "      <td>7</td>\n",
       "      <td>7</td>\n",
       "      <td>7</td>\n",
       "      <td>5</td>\n",
       "      <td>6</td>\n",
       "      <td>9</td>\n",
       "      <td>...</td>\n",
       "      <td>2</td>\n",
       "      <td>0</td>\n",
       "      <td>1</td>\n",
       "      <td>0</td>\n",
       "      <td>0</td>\n",
       "      <td>0</td>\n",
       "      <td>0</td>\n",
       "      <td>0</td>\n",
       "      <td>0</td>\n",
       "      <td>1</td>\n",
       "    </tr>\n",
       "    <tr>\n",
       "      <th>3</th>\n",
       "      <td>63</td>\n",
       "      <td>34</td>\n",
       "      <td>29</td>\n",
       "      <td>28</td>\n",
       "      <td>15</td>\n",
       "      <td>22</td>\n",
       "      <td>16</td>\n",
       "      <td>5</td>\n",
       "      <td>19</td>\n",
       "      <td>9</td>\n",
       "      <td>...</td>\n",
       "      <td>1</td>\n",
       "      <td>1</td>\n",
       "      <td>0</td>\n",
       "      <td>1</td>\n",
       "      <td>2</td>\n",
       "      <td>1</td>\n",
       "      <td>2</td>\n",
       "      <td>1</td>\n",
       "      <td>0</td>\n",
       "      <td>1</td>\n",
       "    </tr>\n",
       "    <tr>\n",
       "      <th>4</th>\n",
       "      <td>41</td>\n",
       "      <td>20</td>\n",
       "      <td>18</td>\n",
       "      <td>15</td>\n",
       "      <td>15</td>\n",
       "      <td>11</td>\n",
       "      <td>20</td>\n",
       "      <td>3</td>\n",
       "      <td>0</td>\n",
       "      <td>2</td>\n",
       "      <td>...</td>\n",
       "      <td>1</td>\n",
       "      <td>1</td>\n",
       "      <td>0</td>\n",
       "      <td>1</td>\n",
       "      <td>1</td>\n",
       "      <td>0</td>\n",
       "      <td>0</td>\n",
       "      <td>0</td>\n",
       "      <td>0</td>\n",
       "      <td>1</td>\n",
       "    </tr>\n",
       "  </tbody>\n",
       "</table>\n",
       "<p>5 rows × 201 columns</p>\n",
       "</div>"
      ],
      "text/plain": [
       "   the   a  and  of  to  is  in  that  it  as  ...  plays  long  cast  john  \\\n",
       "0   46  15   20  14  15   7  18     3   6   2  ...      0     1     0     0   \n",
       "1   35  22   20  12  14  22  12    10   8   5  ...      0     0     0     0   \n",
       "2   33   9    9  10   7   7   7     5   6   9  ...      2     0     1     0   \n",
       "3   63  34   29  28  15  22  16     5  19   9  ...      1     1     0     1   \n",
       "4   41  20   18  15  15  11  20     3   0   2  ...      1     1     0     1   \n",
       "\n",
       "   old  ever  comes  young  without  class  \n",
       "0    0     0      0      0        0      1  \n",
       "1    0     0      1      0        0      1  \n",
       "2    0     0      0      0        0      1  \n",
       "3    2     1      2      1        0      1  \n",
       "4    1     0      0      0        0      1  \n",
       "\n",
       "[5 rows x 201 columns]"
      ]
     },
     "execution_count": 41,
     "metadata": {},
     "output_type": "execute_result"
    }
   ],
   "source": [
    "df.head()"
   ]
  },
  {
   "cell_type": "code",
   "execution_count": 69,
   "metadata": {},
   "outputs": [],
   "source": [
    "mean_pos = df_pos.mean(axis=0).to_numpy()[0:200]\n",
    "std_pos = df_pos.std(axis=0).to_numpy()[0:200]"
   ]
  },
  {
   "cell_type": "code",
   "execution_count": 70,
   "metadata": {},
   "outputs": [],
   "source": [
    "mean_neg = df_neg.mean(axis=0)[0:200]\n",
    "std_neg = df_neg.std(axis=0)[0:200]"
   ]
  },
  {
   "cell_type": "code",
   "execution_count": 96,
   "metadata": {},
   "outputs": [
    {
     "data": {
      "text/plain": [
       "3.08364667872833e-170"
      ]
     },
     "execution_count": 96,
     "metadata": {},
     "output_type": "execute_result"
    }
   ],
   "source": [
    "import scipy \n",
    "from scipy.special import logsumexp\n",
    "\n",
    "np.seterr('raise')\n",
    "\n",
    "def log_vraisemblance(words,means,stds):\n",
    "    \n",
    "    res = []\n",
    "    for m,s,x in zip(means,stds,words):\n",
    "        r=scipy.stats.norm.pdf(x,loc=m,scale=s) # Calcul de P(Word|Classe) #TODO : switch to Naive Bayes using count insted of Gaussian\n",
    "        res.append(logsumexp(r))\n",
    "  \n",
    "    return(np.prod(res)) # Product\n",
    "    \n",
    "test = data_pos[33].astype(np.int16)\n",
    "\n",
    "log_vraisemblance(test,mean_pos,std_pos)"
   ]
  },
  {
   "cell_type": "code",
   "execution_count": 97,
   "metadata": {},
   "outputs": [
    {
     "data": {
      "text/plain": [
       "9.512874799471924e-182"
      ]
     },
     "execution_count": 97,
     "metadata": {},
     "output_type": "execute_result"
    }
   ],
   "source": [
    "log_vraisemblance(test,mean_neg,std_neg)"
   ]
  },
  {
   "cell_type": "markdown",
   "metadata": {},
   "source": [
    "### SKlearn Test"
   ]
  },
  {
   "cell_type": "code",
   "execution_count": 98,
   "metadata": {},
   "outputs": [],
   "source": [
    "X_train, X_test, y_train, y_test = train_test_split(df.drop(columns=['class']), df['class'], test_size=0.3, random_state=42)"
   ]
  },
  {
   "cell_type": "code",
   "execution_count": 99,
   "metadata": {},
   "outputs": [
    {
     "data": {
      "text/plain": [
       "0.7018518518518518"
      ]
     },
     "execution_count": 99,
     "metadata": {},
     "output_type": "execute_result"
    }
   ],
   "source": [
    "clf = MultinomialNB()\n",
    "clf.fit(X_train.to_numpy(), y_train.to_numpy())\n",
    "clf.score(X_test.to_numpy(),y_test.to_numpy())"
   ]
  },
  {
   "cell_type": "code",
   "execution_count": 100,
   "metadata": {},
   "outputs": [],
   "source": [
    "#https://dridk.me/maximum-de-vraissemblance.html\n",
    "#https://dridk.me/expectation-maximisation.html"
   ]
  }
 ],
 "metadata": {
  "kernelspec": {
   "display_name": "Python 3",
   "language": "python",
   "name": "python3"
  },
  "language_info": {
   "codemirror_mode": {
    "name": "ipython",
    "version": 3
   },
   "file_extension": ".py",
   "mimetype": "text/x-python",
   "name": "python",
   "nbconvert_exporter": "python",
   "pygments_lexer": "ipython3",
   "version": "3.7.4"
  }
 },
 "nbformat": 4,
 "nbformat_minor": 4
}
